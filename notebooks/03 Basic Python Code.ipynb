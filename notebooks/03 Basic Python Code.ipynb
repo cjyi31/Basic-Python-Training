{
 "cells": [
  {
   "cell_type": "markdown",
   "metadata": {},
   "source": [
    "# Lists"
   ]
  },
  {
   "cell_type": "code",
   "execution_count": 29,
   "metadata": {},
   "outputs": [
    {
     "name": "stdout",
     "output_type": "stream",
     "text": [
      "['Mark', 'Jim', 'Michael', 'James', 'Oscar', 'Toby']\n"
     ]
    }
   ],
   "source": [
    "#List can be created using square brackets. Here we have a list of Names.\n",
    "Name = [\"Mark\",\"Jim\",\"Michael\", \"James\", \"Oscar\",\"Toby\"]\n",
    "print(Name)"
   ]
  },
  {
   "cell_type": "code",
   "execution_count": 11,
   "metadata": {},
   "outputs": [
    {
     "name": "stdout",
     "output_type": "stream",
     "text": [
      "Mark\n",
      "Toby\n"
     ]
    }
   ],
   "source": [
    "#To access a specific element in the list, we use indexing where the first element has index 0, 2nd element has index 1 and so on.\n",
    "#From left to right.\n",
    "print(Name[0])\n",
    "\n",
    "#We can also access elements from right to left. Noticed that the last element has index -1, 2nd last element has index of -2 and so on.\n",
    "print(Name[-1])\n"
   ]
  },
  {
   "cell_type": "code",
   "execution_count": 17,
   "metadata": {},
   "outputs": [
    {
     "name": "stdout",
     "output_type": "stream",
     "text": [
      "['Mark', 'Jim', 'Michael', 'James']\n",
      "['Jim', 'Michael', 'James', 'Oscar', 'Toby']\n",
      "['Mark', 'Jim', 'Michael']\n"
     ]
    }
   ],
   "source": [
    "#We can also access elements using slicing. The syntax is [start:stop:step]\n",
    "print(Name[0:4]) #here we start with first element (index = 0), then we stop at 4th element (index = 4). Noticed that element with index=4 is not included.\n",
    "\n",
    "#when using [n:], we are grabbing the n+1 th element until the end.\n",
    "print(Name[1:]) #Notice that the list does not contain \"Mark\"\n",
    "\n",
    "#when using [:n], we are grabbing the first element until the nth element.\n",
    "print(Name[:3])\n"
   ]
  },
  {
   "cell_type": "code",
   "execution_count": 30,
   "metadata": {},
   "outputs": [
    {
     "name": "stdout",
     "output_type": "stream",
     "text": [
      "original list: \n",
      "['Mark', 'Jim', 'Michael', 'James', 'Oscar', 'Toby']\n",
      "New list:\n",
      "['Mark Jr.', 'Jim', 'Michael', 'James', 'Oscar', 'Toby']\n"
     ]
    }
   ],
   "source": [
    "#to update list:\n",
    "print(\"original list: \")\n",
    "print(Name)\n",
    "\n",
    "#Update/change the first element\n",
    "Name[0] = \"Mark Jr.\"\n",
    "print(\"New list:\")\n",
    "print(Name)"
   ]
  },
  {
   "cell_type": "code",
   "execution_count": 31,
   "metadata": {},
   "outputs": [
    {
     "name": "stdout",
     "output_type": "stream",
     "text": [
      "New list: \n",
      "['Mark Jr.', 'Jim', 'Michael', 'James', 'Oscar', 'Toby']\n",
      "Newer list:\n",
      "['Mark Jr.', 'Michael', 'James', 'Oscar', 'Toby']\n"
     ]
    }
   ],
   "source": [
    "#to remove element from list:\n",
    "print(\"New list: \")\n",
    "print(Name)\n",
    "\n",
    "#to Remove an element (to remove Jim)\n",
    "Name.remove(\"Jim\")\n",
    "print(\"Newer list:\")\n",
    "print(Name)\n"
   ]
  },
  {
   "cell_type": "markdown",
   "metadata": {},
   "source": [
    "## Append List"
   ]
  },
  {
   "cell_type": "code",
   "execution_count": 34,
   "metadata": {},
   "outputs": [
    {
     "name": "stdout",
     "output_type": "stream",
     "text": [
      "['Mark', 'Jim', 'Michael', 'James', 'Oscar', 'Toby', 10, 20, 30, 40, 50, 60]\n"
     ]
    }
   ],
   "source": [
    "#List can be created using square brackets. Here we have a list of Names.\n",
    "Name =[\"Mark\",\"Jim\",\"Michael\", \"James\", \"Oscar\",\"Toby\"]\n",
    "Age = [10,20,30,40,50,60]\n",
    "\n",
    "#to append (combining 2 lists together) list:\n",
    "Name.extend(Age)\n",
    "print(Name)"
   ]
  },
  {
   "cell_type": "code",
   "execution_count": 35,
   "metadata": {},
   "outputs": [
    {
     "name": "stdout",
     "output_type": "stream",
     "text": [
      "Old list: \n",
      "['Mark', 'Jim', 'Michael', 'James', 'Oscar', 'Toby']\n",
      "New List: \n",
      "['Mark', 'Jim', 'Michael', 'James', 'Oscar', 'Toby', 'Chad']\n"
     ]
    }
   ],
   "source": [
    "#If we just want to add new element at the end of the list, we can use .append()\n",
    "Name =[\"Mark\",\"Jim\",\"Michael\", \"James\", \"Oscar\",\"Toby\"]\n",
    "print(\"Old list: \")\n",
    "print(Name)\n",
    "\n",
    "#add a new element\n",
    "Name.append(\"Chad\")\n",
    "\n",
    "print(\"New List: \")\n",
    "print(Name)"
   ]
  },
  {
   "cell_type": "markdown",
   "metadata": {},
   "source": [
    "## Insert List"
   ]
  },
  {
   "cell_type": "code",
   "execution_count": 37,
   "metadata": {},
   "outputs": [
    {
     "name": "stdout",
     "output_type": "stream",
     "text": [
      "Old list: \n",
      "['Mark', 'Jim', 'Michael', 'James', 'Oscar', 'Toby']\n",
      "New List: \n",
      "['Mark', 'Jim', 'Sally', 'Michael', 'James', 'Oscar', 'Toby']\n"
     ]
    }
   ],
   "source": [
    "#we can use insert() to insert an element at a specific index\n",
    "Name =[\"Mark\",\"Jim\",\"Michael\", \"James\", \"Oscar\",\"Toby\"]\n",
    "\n",
    "print(\"Old list: \")\n",
    "print(Name)\n",
    "\n",
    "#To add \"Sally\" in between Jim and Michael\n",
    "Name.insert(2,\"Sally\")\n",
    "\n",
    "print(\"New List: \")\n",
    "print(Name)"
   ]
  },
  {
   "cell_type": "markdown",
   "metadata": {},
   "source": [
    "## To clear list"
   ]
  },
  {
   "cell_type": "code",
   "execution_count": 39,
   "metadata": {},
   "outputs": [
    {
     "name": "stdout",
     "output_type": "stream",
     "text": [
      "['Mark', 'Jim', 'Michael', 'James', 'Oscar', 'Toby']\n",
      "[]\n"
     ]
    }
   ],
   "source": [
    "#we can use insert() to insert an element at a specific index\n",
    "Name =[\"Mark\",\"Jim\",\"Michael\", \"James\", \"Oscar\",\"Toby\"]\n",
    "print(Name)\n",
    "\n",
    "#to clear all elements in the list\n",
    "Name.clear()\n",
    "print(Name)"
   ]
  },
  {
   "cell_type": "markdown",
   "metadata": {},
   "source": [
    "## To find out the index of specific element"
   ]
  },
  {
   "cell_type": "code",
   "execution_count": 41,
   "metadata": {},
   "outputs": [
    {
     "data": {
      "text/plain": [
       "3"
      ]
     },
     "execution_count": 41,
     "metadata": {},
     "output_type": "execute_result"
    }
   ],
   "source": [
    "#we can use insert() to insert an element at a specific index\n",
    "Name =[\"Mark\",\"Jim\",\"Michael\", \"James\", \"Oscar\",\"Toby\"]\n",
    "\n",
    "Name.index(\"James\")"
   ]
  },
  {
   "cell_type": "markdown",
   "metadata": {},
   "source": [
    "## To count how many times an element appears in the list"
   ]
  },
  {
   "cell_type": "code",
   "execution_count": 44,
   "metadata": {},
   "outputs": [
    {
     "data": {
      "text/plain": [
       "2"
      ]
     },
     "execution_count": 44,
     "metadata": {},
     "output_type": "execute_result"
    }
   ],
   "source": [
    "#we can use insert() to insert an element at a specific index\n",
    "Name =[\"Mark\",\"Jim\",\"Michael\", \"James\", \"Oscar\",\"Toby\",\"James\"]\n",
    "\n",
    "Name.count(\"James\") #number of times \"James\" appears in the list"
   ]
  },
  {
   "cell_type": "markdown",
   "metadata": {},
   "source": [
    "## Sort List"
   ]
  },
  {
   "cell_type": "code",
   "execution_count": 45,
   "metadata": {},
   "outputs": [
    {
     "name": "stdout",
     "output_type": "stream",
     "text": [
      "Old list: \n",
      "['Mark', 'Jim', 'Michael', 'James', 'Oscar', 'Toby', 'James']\n",
      "New List: \n",
      "['James', 'James', 'Jim', 'Mark', 'Michael', 'Oscar', 'Toby']\n"
     ]
    }
   ],
   "source": [
    "Name =[\"Mark\",\"Jim\",\"Michael\", \"James\", \"Oscar\",\"Toby\",\"James\"]\n",
    "\n",
    "print(\"Old list: \")\n",
    "print(Name)\n",
    "\n",
    "#To add \"Sally\" in between Jim and Michael\n",
    "Name.sort()\n",
    "\n",
    "print(\"New List: \")\n",
    "print(Name)\n"
   ]
  },
  {
   "cell_type": "markdown",
   "metadata": {},
   "source": [
    "## Reverse List"
   ]
  },
  {
   "cell_type": "code",
   "execution_count": 47,
   "metadata": {},
   "outputs": [
    {
     "name": "stdout",
     "output_type": "stream",
     "text": [
      "Old list: \n",
      "['Mark', 'Jim', 'Michael', 'James', 'Oscar', 'Toby', 'James']\n",
      "New List: \n",
      "['James', 'Toby', 'Oscar', 'James', 'Michael', 'Jim', 'Mark']\n"
     ]
    }
   ],
   "source": [
    "#Reverse the elements in the list:\n",
    "\n",
    "Name =[\"Mark\",\"Jim\",\"Michael\", \"James\", \"Oscar\",\"Toby\",\"James\"]\n",
    "\n",
    "print(\"Old list: \")\n",
    "print(Name)\n",
    "\n",
    "#To add \"Sally\" in between Jim and Michael\n",
    "Name.reverse()\n",
    "\n",
    "print(\"New List: \")\n",
    "print(Name)\n"
   ]
  },
  {
   "cell_type": "markdown",
   "metadata": {},
   "source": [
    "# Tuples"
   ]
  },
  {
   "cell_type": "code",
   "execution_count": 49,
   "metadata": {},
   "outputs": [
    {
     "name": "stdout",
     "output_type": "stream",
     "text": [
      "3\n"
     ]
    }
   ],
   "source": [
    "# to create tuples we use (), most commonly use case of tuples are coordinates.\n",
    "# Once created, it cannot be changed, or updated. It is immutable. (List is mutable.)\n",
    "# Majority of the time we use lists instead of tuples.\n",
    "coordinate = (3,5)\n",
    "\n",
    "print(coordinate[0])"
   ]
  },
  {
   "cell_type": "markdown",
   "metadata": {},
   "source": [
    "# Functions"
   ]
  },
  {
   "cell_type": "code",
   "execution_count": null,
   "metadata": {},
   "outputs": [],
   "source": [
    "#Functions are a collections of codes that perform a specific task.\n",
    "\n"
   ]
  },
  {
   "cell_type": "code",
   "execution_count": null,
   "metadata": {},
   "outputs": [],
   "source": [
    "#1. For loops\n",
    "#2. While loops\n",
    "#3. Try Except\n",
    "#4. If else"
   ]
  }
 ],
 "metadata": {
  "kernelspec": {
   "display_name": ".venv",
   "language": "python",
   "name": "python3"
  },
  "language_info": {
   "codemirror_mode": {
    "name": "ipython",
    "version": 3
   },
   "file_extension": ".py",
   "mimetype": "text/x-python",
   "name": "python",
   "nbconvert_exporter": "python",
   "pygments_lexer": "ipython3",
   "version": "3.12.1"
  }
 },
 "nbformat": 4,
 "nbformat_minor": 2
}
